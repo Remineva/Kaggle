{
 "cells": [
  {
   "cell_type": "code",
   "execution_count": 1,
   "id": "728cedba",
   "metadata": {
    "execution": {
     "iopub.execute_input": "2023-12-20T04:01:06.071406Z",
     "iopub.status.busy": "2023-12-20T04:01:06.071109Z",
     "iopub.status.idle": "2023-12-20T04:01:11.554583Z",
     "shell.execute_reply": "2023-12-20T04:01:11.553640Z"
    },
    "papermill": {
     "duration": 5.493414,
     "end_time": "2023-12-20T04:01:11.557000",
     "exception": false,
     "start_time": "2023-12-20T04:01:06.063586",
     "status": "completed"
    },
    "tags": []
   },
   "outputs": [
    {
     "name": "stderr",
     "output_type": "stream",
     "text": [
      "/opt/conda/lib/python3.10/site-packages/scipy/__init__.py:146: UserWarning: A NumPy version >=1.16.5 and <1.23.0 is required for this version of SciPy (detected version 1.24.3\n",
      "  warnings.warn(f\"A NumPy version >={np_minversion} and <{np_maxversion}\"\n",
      "/opt/conda/lib/python3.10/site-packages/dask/dataframe/_pyarrow_compat.py:23: UserWarning: You are using pyarrow version 11.0.0 which is known to be insecure. See https://www.cve.org/CVERecord?id=CVE-2023-47248 for further details. Please upgrade to pyarrow>=14.0.1 or install pyarrow-hotfix to patch your current version.\n",
      "  warnings.warn(\n"
     ]
    }
   ],
   "source": [
    "import numpy as np\n",
    "import pandas as pd\n",
    "from itertools import combinations\n",
    "import warnings\n",
    "import lightgbm as lgb\n",
    "import gc\n",
    "import plotly.express as px\n",
    "from sklearn.metrics import mean_absolute_error\n",
    "\n",
    "warnings.filterwarnings(\"ignore\")"
   ]
  },
  {
   "cell_type": "code",
   "execution_count": 2,
   "id": "eb8e006c",
   "metadata": {
    "_cell_guid": "b1076dfc-b9ad-4769-8c92-a6c4dae69d19",
    "_uuid": "8f2839f25d086af736a60e9eeb907d3b93b6e0e5",
    "execution": {
     "iopub.execute_input": "2023-12-20T04:01:11.570883Z",
     "iopub.status.busy": "2023-12-20T04:01:11.570577Z",
     "iopub.status.idle": "2023-12-20T04:01:28.378978Z",
     "shell.execute_reply": "2023-12-20T04:01:28.378165Z"
    },
    "papermill": {
     "duration": 16.817943,
     "end_time": "2023-12-20T04:01:28.381368",
     "exception": false,
     "start_time": "2023-12-20T04:01:11.563425",
     "status": "completed"
    },
    "tags": []
   },
   "outputs": [],
   "source": [
    "Df = pd.read_csv(\"/kaggle/input/optiver-trading-at-the-close/train.csv\")"
   ]
  },
  {
   "cell_type": "code",
   "execution_count": 3,
   "id": "c5fd0dd3",
   "metadata": {
    "execution": {
     "iopub.execute_input": "2023-12-20T04:01:28.394915Z",
     "iopub.status.busy": "2023-12-20T04:01:28.394310Z",
     "iopub.status.idle": "2023-12-20T04:01:28.902880Z",
     "shell.execute_reply": "2023-12-20T04:01:28.902103Z"
    },
    "papermill": {
     "duration": 0.517674,
     "end_time": "2023-12-20T04:01:28.905169",
     "exception": false,
     "start_time": "2023-12-20T04:01:28.387495",
     "status": "completed"
    },
    "tags": []
   },
   "outputs": [],
   "source": [
    "Df = Df[~((Df[\"stock_id\"] == 131) & (Df[\"date_id\"] == 35) | (Df[\"stock_id\"] == 101) & (Df[\"date_id\"] == 328) | (Df[\"stock_id\"] == 158) & (Df[\"date_id\"] == 388) | (Df[\"stock_id\"] == 19) & (Df[\"date_id\"] == 438))]"
   ]
  },
  {
   "cell_type": "code",
   "execution_count": 4,
   "id": "0c8c78f3",
   "metadata": {
    "execution": {
     "iopub.execute_input": "2023-12-20T04:01:28.919109Z",
     "iopub.status.busy": "2023-12-20T04:01:28.918830Z",
     "iopub.status.idle": "2023-12-20T04:01:28.923344Z",
     "shell.execute_reply": "2023-12-20T04:01:28.922438Z"
    },
    "papermill": {
     "duration": 0.01355,
     "end_time": "2023-12-20T04:01:28.925317",
     "exception": false,
     "start_time": "2023-12-20T04:01:28.911767",
     "status": "completed"
    },
    "tags": []
   },
   "outputs": [],
   "source": [
    "Df.reset_index(drop=True, inplace=True)"
   ]
  },
  {
   "cell_type": "code",
   "execution_count": 5,
   "id": "69da55b6",
   "metadata": {
    "execution": {
     "iopub.execute_input": "2023-12-20T04:01:28.938663Z",
     "iopub.status.busy": "2023-12-20T04:01:28.938402Z",
     "iopub.status.idle": "2023-12-20T04:01:29.231514Z",
     "shell.execute_reply": "2023-12-20T04:01:29.230726Z"
    },
    "papermill": {
     "duration": 0.30231,
     "end_time": "2023-12-20T04:01:29.233894",
     "exception": false,
     "start_time": "2023-12-20T04:01:28.931584",
     "status": "completed"
    },
    "tags": []
   },
   "outputs": [],
   "source": [
    "df = Df.copy()"
   ]
  },
  {
   "cell_type": "code",
   "execution_count": 6,
   "id": "79dba898",
   "metadata": {
    "execution": {
     "iopub.execute_input": "2023-12-20T04:01:29.247382Z",
     "iopub.status.busy": "2023-12-20T04:01:29.247110Z",
     "iopub.status.idle": "2023-12-20T04:01:29.397879Z",
     "shell.execute_reply": "2023-12-20T04:01:29.397119Z"
    },
    "papermill": {
     "duration": 0.160082,
     "end_time": "2023-12-20T04:01:29.400242",
     "exception": false,
     "start_time": "2023-12-20T04:01:29.240160",
     "status": "completed"
    },
    "tags": []
   },
   "outputs": [],
   "source": [
    "sizes = [\"imbalance_size\", \"matched_size\", \"bid_size\", \"ask_size\"]\n",
    "for feat in sizes:\n",
    "    df[feat] = np.log(df[feat])"
   ]
  },
  {
   "cell_type": "code",
   "execution_count": 7,
   "id": "e6d83752",
   "metadata": {
    "execution": {
     "iopub.execute_input": "2023-12-20T04:01:29.414336Z",
     "iopub.status.busy": "2023-12-20T04:01:29.414039Z",
     "iopub.status.idle": "2023-12-20T04:01:29.426782Z",
     "shell.execute_reply": "2023-12-20T04:01:29.425871Z"
    },
    "papermill": {
     "duration": 0.022016,
     "end_time": "2023-12-20T04:01:29.428788",
     "exception": false,
     "start_time": "2023-12-20T04:01:29.406772",
     "status": "completed"
    },
    "tags": []
   },
   "outputs": [],
   "source": [
    "weights = [\n",
    "    0.004, 0.001, 0.002, 0.006, 0.004, 0.004, 0.002, 0.006, 0.006, 0.002, 0.002, 0.008,\n",
    "    0.006, 0.002, 0.008, 0.006, 0.002, 0.006, 0.004, 0.002, 0.004, 0.001, 0.006, 0.004,\n",
    "    0.002, 0.002, 0.004, 0.002, 0.004, 0.004, 0.001, 0.001, 0.002, 0.002, 0.006, 0.004,\n",
    "    0.004, 0.004, 0.006, 0.002, 0.002, 0.04 , 0.002, 0.002, 0.004, 0.04 , 0.002, 0.001,\n",
    "    0.006, 0.004, 0.004, 0.006, 0.001, 0.004, 0.004, 0.002, 0.006, 0.004, 0.006, 0.004,\n",
    "    0.006, 0.004, 0.002, 0.001, 0.002, 0.004, 0.002, 0.008, 0.004, 0.004, 0.002, 0.004,\n",
    "    0.006, 0.002, 0.004, 0.004, 0.002, 0.004, 0.004, 0.004, 0.001, 0.002, 0.002, 0.008,\n",
    "    0.02 , 0.004, 0.006, 0.002, 0.02 , 0.002, 0.002, 0.006, 0.004, 0.002, 0.001, 0.02,\n",
    "    0.006, 0.001, 0.002, 0.004, 0.001, 0.002, 0.006, 0.006, 0.004, 0.006, 0.001, 0.002,\n",
    "    0.004, 0.006, 0.006, 0.001, 0.04 , 0.006, 0.002, 0.004, 0.002, 0.002, 0.006, 0.002,\n",
    "    0.002, 0.004, 0.006, 0.006, 0.002, 0.002, 0.008, 0.006, 0.004, 0.002, 0.006, 0.002,\n",
    "    0.004, 0.006, 0.002, 0.004, 0.001, 0.004, 0.002, 0.004, 0.008, 0.006, 0.008, 0.002,\n",
    "    0.004, 0.002, 0.001, 0.004, 0.004, 0.004, 0.006, 0.008, 0.004, 0.001, 0.001, 0.002,\n",
    "    0.006, 0.004, 0.001, 0.002, 0.006, 0.004, 0.006, 0.008, 0.002, 0.002, 0.004, 0.002,\n",
    "    0.04 , 0.002, 0.002, 0.004, 0.002, 0.002, 0.006, 0.02 , 0.004, 0.002, 0.006, 0.02,\n",
    "    0.001, 0.002, 0.006, 0.004, 0.006, 0.004, 0.004, 0.004, 0.004, 0.002, 0.004, 0.04,\n",
    "    0.002, 0.008, 0.002, 0.004, 0.001, 0.004, 0.006, 0.004,\n",
    "]\n",
    "\n",
    "weights = {int(k):v for k,v in enumerate(weights)}"
   ]
  },
  {
   "cell_type": "code",
   "execution_count": 8,
   "id": "cf3cb3bc",
   "metadata": {
    "execution": {
     "iopub.execute_input": "2023-12-20T04:01:29.442569Z",
     "iopub.status.busy": "2023-12-20T04:01:29.442316Z",
     "iopub.status.idle": "2023-12-20T04:01:33.317620Z",
     "shell.execute_reply": "2023-12-20T04:01:33.316825Z"
    },
    "papermill": {
     "duration": 3.884779,
     "end_time": "2023-12-20T04:01:33.319973",
     "exception": false,
     "start_time": "2023-12-20T04:01:29.435194",
     "status": "completed"
    },
    "tags": []
   },
   "outputs": [],
   "source": [
    "df[\"pre_target\"] = df.groupby(\"stock_id\")[\"target\"].shift(55)\n",
    "df[\"pre_target_std\"] = df.groupby([\"stock_id\", \"date_id\"])[\"pre_target\"].transform(\"std\")\n",
    "df = df.drop(\"pre_target\", axis=1)\n",
    "df[\"pre_ask\"] = df.groupby(\"stock_id\")[\"ask_price\"].shift(55)\n",
    "df[\"pre_ask_std\"] = df.groupby([\"stock_id\", \"date_id\"])[\"pre_ask\"].transform(\"std\")\n",
    "df = df.drop(\"pre_ask\", axis=1)\n",
    "df[\"pre_bid\"] = df.groupby(\"stock_id\")[\"bid_price\"].shift(55)\n",
    "df[\"pre_bid_std\"] = df.groupby([\"stock_id\", \"date_id\"])[\"pre_bid\"].transform(\"std\")\n",
    "df = df.drop(\"pre_bid\", axis=1)\n",
    "df[\"pre_wap\"] = df.groupby(\"stock_id\")[\"wap\"].shift(55)\n",
    "df[\"pre_wap_std\"] = df.groupby([\"stock_id\", \"date_id\"])[\"pre_wap\"].transform(\"std\")\n",
    "df[\"pre_wap\"] = df.groupby([\"stock_id\", \"date_id\"])[\"pre_wap\"].transform(\"mean\")"
   ]
  },
  {
   "cell_type": "code",
   "execution_count": 9,
   "id": "24119826",
   "metadata": {
    "execution": {
     "iopub.execute_input": "2023-12-20T04:01:33.333800Z",
     "iopub.status.busy": "2023-12-20T04:01:33.333484Z",
     "iopub.status.idle": "2023-12-20T04:01:33.964211Z",
     "shell.execute_reply": "2023-12-20T04:01:33.963231Z"
    },
    "papermill": {
     "duration": 0.64014,
     "end_time": "2023-12-20T04:01:33.966519",
     "exception": false,
     "start_time": "2023-12-20T04:01:33.326379",
     "status": "completed"
    },
    "tags": []
   },
   "outputs": [],
   "source": [
    "from numba import njit, prange\n",
    "\n",
    "@njit(parallel=True)\n",
    "def compute_triplet_imbalance(df_values, comb_indices):\n",
    "    num_rows = df_values.shape[0]\n",
    "    num_combinations = len(comb_indices)\n",
    "    imbalance_features = np.empty((num_rows, num_combinations))\n",
    "\n",
    "    for i in prange(num_combinations):\n",
    "        a, b, c = comb_indices[i]\n",
    "        for j in range(num_rows):\n",
    "            max_val = max(df_values[j, a], df_values[j, b], df_values[j, c])\n",
    "            min_val = min(df_values[j, a], df_values[j, b], df_values[j, c])\n",
    "            mid_val = df_values[j, a] + df_values[j, b] + df_values[j, c] - min_val - max_val\n",
    "            if mid_val == min_val:\n",
    "                imbalance_features[j, i] = np.nan\n",
    "            else:\n",
    "                imbalance_features[j, i] = (max_val - mid_val) / (mid_val - min_val)\n",
    "\n",
    "    return imbalance_features\n",
    "\n",
    "def calculate_triplet_imbalance_numba(price, df):\n",
    "    df_values = df[price].values\n",
    "    comb_indices = [(price.index(a), price.index(b), price.index(c)) for a, b, c in combinations(price, 3)]\n",
    "    features_array = compute_triplet_imbalance(df_values, comb_indices)\n",
    "    columns = [f\"{a}_{b}_{c}_imb2\" for a, b, c in combinations(price, 3)]\n",
    "    features = pd.DataFrame(features_array, columns=columns)\n",
    "\n",
    "    return features"
   ]
  },
  {
   "cell_type": "code",
   "execution_count": 10,
   "id": "d6e649d7",
   "metadata": {
    "execution": {
     "iopub.execute_input": "2023-12-20T04:01:33.980871Z",
     "iopub.status.busy": "2023-12-20T04:01:33.980378Z",
     "iopub.status.idle": "2023-12-20T04:01:35.693611Z",
     "shell.execute_reply": "2023-12-20T04:01:35.692793Z"
    },
    "papermill": {
     "duration": 1.722632,
     "end_time": "2023-12-20T04:01:35.695902",
     "exception": false,
     "start_time": "2023-12-20T04:01:33.973270",
     "status": "completed"
    },
    "tags": []
   },
   "outputs": [],
   "source": [
    "global_stock_id_feats = {\n",
    "        \"median_size\": df.groupby(\"stock_id\")[\"bid_size\"].median() + df.groupby(\"stock_id\")[\"ask_size\"].median(),\n",
    "        \"std_size\": df.groupby(\"stock_id\")[\"bid_size\"].std() + df.groupby(\"stock_id\")[\"ask_size\"].std(),\n",
    "        \"ptp_size\": df.groupby(\"stock_id\")[\"bid_size\"].max() - df.groupby(\"stock_id\")[\"bid_size\"].min(),\n",
    "        \"median_price\": df.groupby(\"stock_id\")[\"bid_price\"].median() + df.groupby(\"stock_id\")[\"ask_price\"].median(),\n",
    "        \"std_price\": df.groupby(\"stock_id\")[\"bid_price\"].std() + df.groupby(\"stock_id\")[\"ask_price\"].std(),\n",
    "        \"ptp_price\": df.groupby(\"stock_id\")[\"ask_price\"].min() - df.groupby(\"stock_id\")[\"bid_price\"].max(),\n",
    "    }"
   ]
  },
  {
   "cell_type": "code",
   "execution_count": 11,
   "id": "bb348b2e",
   "metadata": {
    "execution": {
     "iopub.execute_input": "2023-12-20T04:01:35.710631Z",
     "iopub.status.busy": "2023-12-20T04:01:35.710331Z",
     "iopub.status.idle": "2023-12-20T04:01:35.732381Z",
     "shell.execute_reply": "2023-12-20T04:01:35.731694Z"
    },
    "papermill": {
     "duration": 0.031476,
     "end_time": "2023-12-20T04:01:35.734234",
     "exception": false,
     "start_time": "2023-12-20T04:01:35.702758",
     "status": "completed"
    },
    "tags": []
   },
   "outputs": [],
   "source": [
    "def imbalance_features(df):\n",
    "    prices = [\"reference_price\", \"far_price\", \"near_price\", \"bid_price\", \"ask_price\", \"wap\"]\n",
    "    sizes = [\"imbalance_size\", \"matched_size\", \"bid_size\", \"ask_size\"]\n",
    "\n",
    "    df[\"volume\"] = df.eval(\"bid_size + ask_size\")\n",
    "    df[\"mid_price\"] = df.eval(\"(ask_price + bid_price) / 2\")\n",
    "    df[\"liquidity_imbalance\"] = df.eval(\"(bid_size - ask_size) / (bid_size + ask_size)\")\n",
    "    df[\"matched_imbalance\"] = df.eval(\"(imbalance_size - matched_size)/(matched_size + imbalance_size)\")\n",
    "    df[\"size_imbalance\"] = df.eval(\"bid_size / ask_size\")\n",
    "    df[\"price_spread\"] = df.eval(\"ask_price - bid_price\")\n",
    "    df[\"stock_weights\"] = df[\"stock_id\"].map(weights)\n",
    "    df[\"weighted_wap\"] = df.eval(\"stock_weights * wap\")\n",
    "    \n",
    "    grouped = df.groupby([\"stock_id\", \"date_id\"])\n",
    "    #cumulative features\n",
    "    df[\"cum_cnt\"] = grouped.cumcount() + 1\n",
    "    df[\"bid_cum_sum\"] = grouped[\"bid_price\"].cumsum()\n",
    "    df[\"bid_price_sq\"] = df.eval(\"bid_price ** 2\")\n",
    "    df[\"bid_sq_cum_sum\"] = df.groupby(['stock_id', \"date_id\"])[\"bid_price_sq\"].cumsum()\n",
    "    df[\"bid_price_std\"] = np.sqrt((df[\"bid_sq_cum_sum\"] - df[\"bid_cum_sum\"] ** 2 / df[\"cum_cnt\"]) / df[\"cum_cnt\"])\n",
    "    df = df.drop([\"bid_cum_sum\", \"bid_price_sq\", \"bid_sq_cum_sum\"], axis=1)\n",
    "    df[\"ask_cum_sum\"] = grouped[\"ask_price\"].cumsum()\n",
    "    df[\"ask_price_sq\"] = df.eval(\"ask_price ** 2\")\n",
    "    df[\"ask_sq_cum_sum\"] = df.groupby(['stock_id', \"date_id\"])[\"ask_price_sq\"].cumsum()\n",
    "    df[\"ask_price_std\"] = np.sqrt((df[\"ask_sq_cum_sum\"] - df[\"ask_cum_sum\"] ** 2 / df[\"cum_cnt\"]) / df[\"cum_cnt\"])\n",
    "    df = df.drop([\"ask_cum_sum\", \"ask_price_sq\", \"ask_sq_cum_sum\"], axis=1)\n",
    "    df[\"wap_cum_sum\"] = grouped[\"wap\"].cumsum()\n",
    "    df[\"wap_sq\"] = df.eval(\"wap ** 2\")\n",
    "    df[\"wap_sq_cum_sum\"] = df.groupby(['stock_id', \"date_id\"])[\"wap_sq\"].cumsum()\n",
    "    df[\"wap_std\"] = np.sqrt((df[\"wap_sq_cum_sum\"] - df[\"wap_cum_sum\"] ** 2 / df[\"cum_cnt\"]) / df[\"cum_cnt\"])\n",
    "    df[\"volume_cum\"] = grouped[\"volume\"].cumsum()\n",
    "    df[\"volume_sq\"] = df.eval(\"volume_cum ** 2\")\n",
    "    df[\"volume_sq_cum_sum\"] = df.groupby(['stock_id', \"date_id\"])[\"volume_sq\"].cumsum()\n",
    "    df[\"volume_mean\"] = df.eval(\"volume_cum / cum_cnt\")\n",
    "    df[\"volume_std\"] = np.sqrt((df[\"volume_sq_cum_sum\"] - df[\"volume_cum\"] ** 2 / df[\"cum_cnt\"]) / df[\"cum_cnt\"])\n",
    "    df[\"new_liquidity_imbalance\"] = df.eval(\"(bid_size - ask_size) / (volume_mean)\")\n",
    "    df[\"price_spread_cum\"] = grouped[\"price_spread\"].cumsum()\n",
    "    df[\"price_spread_mean\"] =  df.eval(\"price_spread_cum / cum_cnt\")\n",
    "    df[\"price_spread_ratio\"] = df.eval(\"price_spread / price_spread_mean\")\n",
    "    df[\"new_market_urgency\"] = df.eval(\"price_spread_ratio * new_liquidity_imbalance\")\n",
    "    df = df.drop([\"volume_cum\", \"volume_sq\", \"volume_sq_cum_sum\", \"price_spread_cum\"], axis=1)\n",
    "    \n",
    "    \n",
    "    for c in combinations(prices, 2):\n",
    "        df[f\"{c[0]}_{c[1]}_imb\"] = df.eval(f\"({c[0]} - {c[1]})/({c[0]} + {c[1]})\")\n",
    "    \n",
    "    \n",
    "    # time features\n",
    "    df[\"imbalance_momentum\"] = df.groupby(\"stock_id\")[\"imbalance_size\"].diff(periods=1) / df[\"matched_size\"]\n",
    "    df[\"price_spread\"] = df[\"ask_price\"] - df[\"bid_price\"]\n",
    "    df[\"spread_intensity\"] = df.groupby(\"stock_id\")[\"price_spread\"].diff()\n",
    "    df[\"mid_price_movement\"] = df.groupby(\"stock_id\")[\"mid_price\"].diff(periods=5).apply(lambda x: 1 if x > 0 else (-1 if x < 0 else 0))\n",
    "\n",
    "    df[\"price_pressure\"] = df[\"imbalance_size\"] * (df[\"ask_price\"] - df[\"bid_price\"])\n",
    "    df[\"market_urgency\"] = df[\"price_spread\"] * df[\"liquidity_imbalance\"]\n",
    "    df[\"depth_pressure\"] = (df[\"ask_size\"] - df[\"bid_size\"]) * (df[\"far_price\"] - df[\"near_price\"])\n",
    "    df[\"spread_depth_ratio\"] = (df[\"ask_price\"] - df[\"bid_price\"]) / (df[\"bid_size\"] + df[\"ask_size\"])\n",
    "    df[\"relative_spread'\"] = (df[\"ask_price\"] - df[\"bid_price\"]) / df[\"wap\"]\n",
    "        \n",
    "    grouped = df.groupby([\"stock_id\", \"date_id\"])\n",
    "    # time lag\n",
    "    for col in ['matched_size', 'imbalance_size', 'reference_price', 'imbalance_buy_sell_flag']:\n",
    "        for window in [1, 2, 3, 5, 10]:\n",
    "            df[f\"{col}_shift_{window}\"] = grouped[col].shift(window)\n",
    "            df[f\"{col}_ret_{window}\"] = grouped[col].pct_change(window)\n",
    "            df[f\"{col}_liq_{window}\"] = df[f\"{col}_ret_{window}\"] * df[\"liquidity_imbalance\"]\n",
    "    \n",
    "    for col in ['ask_price', 'bid_price', 'ask_size', 'bid_size', 'wap', 'near_price', 'far_price']:\n",
    "        for window in [1, 2, 3, 5, 10]:\n",
    "            df[f\"{col}_diff_{window}\"] = grouped[col].diff(window)\n",
    "    \n",
    "    df[\"height_imb\"] = df.eval(\"(bid_price_diff_1 - ask_price_diff_1) / (bid_price_diff_1 + ask_price_diff_1)\")\n",
    "    \n",
    "    return df.replace([np.inf, -np.inf], 0)"
   ]
  },
  {
   "cell_type": "code",
   "execution_count": 12,
   "id": "7d4ed57a",
   "metadata": {
    "execution": {
     "iopub.execute_input": "2023-12-20T04:01:35.748168Z",
     "iopub.status.busy": "2023-12-20T04:01:35.747706Z",
     "iopub.status.idle": "2023-12-20T04:01:35.753737Z",
     "shell.execute_reply": "2023-12-20T04:01:35.752989Z"
    },
    "papermill": {
     "duration": 0.014977,
     "end_time": "2023-12-20T04:01:35.755540",
     "exception": false,
     "start_time": "2023-12-20T04:01:35.740563",
     "status": "completed"
    },
    "tags": []
   },
   "outputs": [],
   "source": [
    "def numba_imb_features(df):\n",
    "    prices = [\"reference_price\", \"far_price\", \"near_price\", \"ask_price\", \"bid_price\", \"wap\"]\n",
    "    sizes = [\"matched_size\", \"bid_size\", \"ask_size\", \"imbalance_size\"]\n",
    "    \n",
    "    for func in [\"mean\", \"std\", \"skew\", \"kurt\"]:\n",
    "        df[f\"all_prices_{func}\"] = df[prices].agg(func, axis=1)\n",
    "        df[f\"all_sizes_{func}\"] = df[sizes].agg(func, axis=1)\n",
    "        \n",
    "    for c in [['ask_price', 'bid_price', 'wap', 'reference_price'], sizes]:\n",
    "        triplet_feature = calculate_triplet_imbalance_numba(c, df)\n",
    "        df[triplet_feature.columns] = triplet_feature.values\n",
    "    return df"
   ]
  },
  {
   "cell_type": "code",
   "execution_count": 13,
   "id": "32c565e7",
   "metadata": {
    "execution": {
     "iopub.execute_input": "2023-12-20T04:01:35.769353Z",
     "iopub.status.busy": "2023-12-20T04:01:35.769119Z",
     "iopub.status.idle": "2023-12-20T04:01:35.773908Z",
     "shell.execute_reply": "2023-12-20T04:01:35.773128Z"
    },
    "papermill": {
     "duration": 0.014024,
     "end_time": "2023-12-20T04:01:35.775833",
     "exception": false,
     "start_time": "2023-12-20T04:01:35.761809",
     "status": "completed"
    },
    "tags": []
   },
   "outputs": [],
   "source": [
    "def other_features(df):\n",
    "    df[\"seconds\"] = df[\"seconds_in_bucket\"] % 60\n",
    "    df[\"minute\"] = df[\"seconds_in_bucket\"] // 60\n",
    "    for key, value in global_stock_id_feats.items():\n",
    "        df[f\"global_{key}\"] = df[\"stock_id\"].map(value.to_dict())\n",
    "\n",
    "    return df"
   ]
  },
  {
   "cell_type": "code",
   "execution_count": 14,
   "id": "308f3657",
   "metadata": {
    "execution": {
     "iopub.execute_input": "2023-12-20T04:01:35.789426Z",
     "iopub.status.busy": "2023-12-20T04:01:35.789188Z",
     "iopub.status.idle": "2023-12-20T04:01:35.794446Z",
     "shell.execute_reply": "2023-12-20T04:01:35.793642Z"
    },
    "papermill": {
     "duration": 0.014128,
     "end_time": "2023-12-20T04:01:35.796343",
     "exception": false,
     "start_time": "2023-12-20T04:01:35.782215",
     "status": "completed"
    },
    "tags": []
   },
   "outputs": [],
   "source": [
    "def generate_all_features(df):\n",
    "    cols = [c for c in df.columns if c not in [\"row_id\", \"time_id\", \"target\", \"currently_scored\"]]\n",
    "    df = df[cols]\n",
    "    df = imbalance_features(df)\n",
    "    df = numba_imb_features(df)\n",
    "    df = other_features(df)\n",
    "    gc.collect()\n",
    "    \n",
    "    feature_name = [i for i in df.columns if i not in [\"row_id\", \"target\", \"time_id\", \"date_id\", \"currently_scored\"]]\n",
    "    \n",
    "    return df[feature_name]"
   ]
  },
  {
   "cell_type": "code",
   "execution_count": 15,
   "id": "17ea22b5",
   "metadata": {
    "execution": {
     "iopub.execute_input": "2023-12-20T04:01:35.810309Z",
     "iopub.status.busy": "2023-12-20T04:01:35.809804Z",
     "iopub.status.idle": "2023-12-20T04:01:35.822017Z",
     "shell.execute_reply": "2023-12-20T04:01:35.821308Z"
    },
    "papermill": {
     "duration": 0.021142,
     "end_time": "2023-12-20T04:01:35.823849",
     "exception": false,
     "start_time": "2023-12-20T04:01:35.802707",
     "status": "completed"
    },
    "tags": []
   },
   "outputs": [],
   "source": [
    "def reduce_mem_usage(df, verbose=0):\n",
    "    \"\"\"\n",
    "    Iterate through all numeric columns of a dataframe and modify the data type\n",
    "    to reduce memory usage.\n",
    "    \"\"\"\n",
    "\n",
    "    start_mem = df.memory_usage().sum() / 1024**2\n",
    "\n",
    "    for col in df.columns:\n",
    "        col_type = df[col].dtype\n",
    "\n",
    "        if col_type != object:\n",
    "            c_min = df[col].min()\n",
    "            c_max = df[col].max()\n",
    "            if str(col_type)[:3] == \"int\":\n",
    "                if c_min > np.iinfo(np.int8).min and c_max < np.iinfo(np.int8).max:\n",
    "                    df[col] = df[col].astype(np.int8)\n",
    "                elif c_min > np.iinfo(np.int16).min and c_max < np.iinfo(np.int16).max:\n",
    "                    df[col] = df[col].astype(np.int16)\n",
    "                elif c_min > np.iinfo(np.int32).min and c_max < np.iinfo(np.int32).max:\n",
    "                    df[col] = df[col].astype(np.int32)\n",
    "                elif c_min > np.iinfo(np.int64).min and c_max < np.iinfo(np.int64).max:\n",
    "                    df[col] = df[col].astype(np.int64)\n",
    "            else:\n",
    "                if c_min > np.finfo(np.float16).min and c_max < np.finfo(np.float16).max:\n",
    "                    df[col] = df[col].astype(np.float32)\n",
    "                elif c_min > np.finfo(np.float32).min and c_max < np.finfo(np.float32).max:\n",
    "                    df[col] = df[col].astype(np.float32)\n",
    "                else:\n",
    "                    df[col] = df[col].astype(np.float32)\n",
    "\n",
    "    if verbose:\n",
    "        print(f\"Memory usage of dataframe is {start_mem:.2f} MB\")\n",
    "        end_mem = df.memory_usage().sum() / 1024**2\n",
    "        print(f\"Memory usage after optimization is: {end_mem:.2f} MB\")\n",
    "        decrease = 100 * (start_mem - end_mem) / start_mem\n",
    "        print(f\"Decreased by {decrease:.2f}%\")\n",
    "\n",
    "    return df"
   ]
  },
  {
   "cell_type": "code",
   "execution_count": 16,
   "id": "7830ccd1",
   "metadata": {
    "execution": {
     "iopub.execute_input": "2023-12-20T04:01:35.838197Z",
     "iopub.status.busy": "2023-12-20T04:01:35.837939Z",
     "iopub.status.idle": "2023-12-20T04:01:36.435813Z",
     "shell.execute_reply": "2023-12-20T04:01:36.434963Z"
    },
    "papermill": {
     "duration": 0.607358,
     "end_time": "2023-12-20T04:01:36.438168",
     "exception": false,
     "start_time": "2023-12-20T04:01:35.830810",
     "status": "completed"
    },
    "tags": []
   },
   "outputs": [],
   "source": [
    "split_day = 435\n",
    "df_train = df[df[\"date_id\"] <= split_day]\n",
    "df_valid = df[df[\"date_id\"] > split_day]"
   ]
  },
  {
   "cell_type": "code",
   "execution_count": 17,
   "id": "9623ea43",
   "metadata": {
    "execution": {
     "iopub.execute_input": "2023-12-20T04:01:36.453270Z",
     "iopub.status.busy": "2023-12-20T04:01:36.452983Z",
     "iopub.status.idle": "2023-12-20T04:05:28.576271Z",
     "shell.execute_reply": "2023-12-20T04:05:28.575260Z"
    },
    "papermill": {
     "duration": 232.133782,
     "end_time": "2023-12-20T04:05:28.578819",
     "exception": false,
     "start_time": "2023-12-20T04:01:36.445037",
     "status": "completed"
    },
    "tags": []
   },
   "outputs": [
    {
     "name": "stdout",
     "output_type": "stream",
     "text": [
      "Memory usage of dataframe is 6621.82 MB\n",
      "Memory usage after optimization is: 3243.06 MB\n",
      "Decreased by 51.02%\n"
     ]
    }
   ],
   "source": [
    "df_train_feats = generate_all_features(df_train)\n",
    "df_train_feats = reduce_mem_usage(df_train_feats, 1)\n",
    "df_valid_feats = generate_all_features(df_valid)\n",
    "df_valid_feats = reduce_mem_usage(df_valid_feats)"
   ]
  },
  {
   "cell_type": "code",
   "execution_count": 18,
   "id": "9babee32",
   "metadata": {
    "execution": {
     "iopub.execute_input": "2023-12-20T04:05:28.594423Z",
     "iopub.status.busy": "2023-12-20T04:05:28.593707Z",
     "iopub.status.idle": "2023-12-20T04:05:28.597925Z",
     "shell.execute_reply": "2023-12-20T04:05:28.597089Z"
    },
    "papermill": {
     "duration": 0.013921,
     "end_time": "2023-12-20T04:05:28.599812",
     "exception": false,
     "start_time": "2023-12-20T04:05:28.585891",
     "status": "completed"
    },
    "tags": []
   },
   "outputs": [],
   "source": [
    "feature_name = list(df_train_feats.columns)"
   ]
  },
  {
   "cell_type": "code",
   "execution_count": 19,
   "id": "9d8c2a98",
   "metadata": {
    "execution": {
     "iopub.execute_input": "2023-12-20T04:05:28.614831Z",
     "iopub.status.busy": "2023-12-20T04:05:28.614163Z",
     "iopub.status.idle": "2023-12-20T04:05:28.618648Z",
     "shell.execute_reply": "2023-12-20T04:05:28.617586Z"
    },
    "papermill": {
     "duration": 0.014255,
     "end_time": "2023-12-20T04:05:28.620736",
     "exception": false,
     "start_time": "2023-12-20T04:05:28.606481",
     "status": "completed"
    },
    "tags": []
   },
   "outputs": [],
   "source": [
    "# lgb_params = {\n",
    "#         \"objective\" : \"mae\",\n",
    "#         \"n_estimators\" : 5000,\n",
    "#         \"num_leaves\" : 128,\n",
    "#         \"subsample\" : 0.6,\n",
    "#         \"colsample_bytree\" : 0.6,\n",
    "#         \"learning_rate\" : 0.02,\n",
    "#         \"n_jobs\" : 4,\n",
    "#         \"device\" : \"gpu\",\n",
    "#         \"verbosity\": -1,\n",
    "#         \"importance_type\" : \"gain\",\n",
    "#     }"
   ]
  },
  {
   "cell_type": "code",
   "execution_count": 20,
   "id": "e35aef92",
   "metadata": {
    "execution": {
     "iopub.execute_input": "2023-12-20T04:05:28.635613Z",
     "iopub.status.busy": "2023-12-20T04:05:28.635132Z",
     "iopub.status.idle": "2023-12-20T04:05:28.640163Z",
     "shell.execute_reply": "2023-12-20T04:05:28.639334Z"
    },
    "papermill": {
     "duration": 0.014402,
     "end_time": "2023-12-20T04:05:28.641969",
     "exception": false,
     "start_time": "2023-12-20T04:05:28.627567",
     "status": "completed"
    },
    "tags": []
   },
   "outputs": [],
   "source": [
    "lgb_params = {\n",
    "        \"objective\": \"mae\",\n",
    "        \"n_estimators\": 6000,\n",
    "        \"num_leaves\": 256,\n",
    "        \"subsample\": 0.6,\n",
    "        \"colsample_bytree\": 0.8,\n",
    "        \"learning_rate\": 0.0086,\n",
    "        'max_depth': 11,\n",
    "        \"n_jobs\": -1,\n",
    "        \"device\": \"gpu\",\n",
    "        \"verbosity\": -1,\n",
    "        \"importance_type\": \"gain\",\n",
    "        \"reg_alpha\": 0.2,\n",
    "        \"reg_lambda\": 3.25\n",
    "    }"
   ]
  },
  {
   "cell_type": "code",
   "execution_count": 21,
   "id": "20482b9a",
   "metadata": {
    "execution": {
     "iopub.execute_input": "2023-12-20T04:05:28.656785Z",
     "iopub.status.busy": "2023-12-20T04:05:28.656514Z",
     "iopub.status.idle": "2023-12-20T06:03:08.477157Z",
     "shell.execute_reply": "2023-12-20T06:03:08.476350Z"
    },
    "papermill": {
     "duration": 7059.851631,
     "end_time": "2023-12-20T06:03:08.500402",
     "exception": false,
     "start_time": "2023-12-20T04:05:28.648771",
     "status": "completed"
    },
    "tags": []
   },
   "outputs": [
    {
     "name": "stdout",
     "output_type": "stream",
     "text": [
      "Fold 1 Model Training\n",
      "Training until validation scores don't improve for 100 rounds\n",
      "[100]\tvalid_0's l1: 5.60906\n",
      "[200]\tvalid_0's l1: 5.57901\n",
      "[300]\tvalid_0's l1: 5.5667\n",
      "[400]\tvalid_0's l1: 5.55877\n",
      "[500]\tvalid_0's l1: 5.55356\n",
      "[600]\tvalid_0's l1: 5.55033\n",
      "[700]\tvalid_0's l1: 5.54773\n",
      "[800]\tvalid_0's l1: 5.54574\n",
      "[900]\tvalid_0's l1: 5.54417\n",
      "[1000]\tvalid_0's l1: 5.54309\n",
      "[1100]\tvalid_0's l1: 5.54227\n",
      "[1200]\tvalid_0's l1: 5.5417\n",
      "[1300]\tvalid_0's l1: 5.54097\n",
      "[1400]\tvalid_0's l1: 5.5406\n",
      "[1500]\tvalid_0's l1: 5.54039\n",
      "[1600]\tvalid_0's l1: 5.54013\n",
      "[1700]\tvalid_0's l1: 5.5399\n",
      "[1800]\tvalid_0's l1: 5.53973\n",
      "[1900]\tvalid_0's l1: 5.53954\n",
      "[2000]\tvalid_0's l1: 5.53937\n",
      "[2100]\tvalid_0's l1: 5.53918\n",
      "[2200]\tvalid_0's l1: 5.53903\n",
      "[2300]\tvalid_0's l1: 5.5389\n",
      "[2400]\tvalid_0's l1: 5.53877\n",
      "[2500]\tvalid_0's l1: 5.53871\n",
      "[2600]\tvalid_0's l1: 5.53865\n",
      "[2700]\tvalid_0's l1: 5.53854\n",
      "[2800]\tvalid_0's l1: 5.53837\n",
      "[2900]\tvalid_0's l1: 5.53822\n",
      "[3000]\tvalid_0's l1: 5.53818\n",
      "[3100]\tvalid_0's l1: 5.53814\n",
      "[3200]\tvalid_0's l1: 5.53805\n",
      "[3300]\tvalid_0's l1: 5.538\n",
      "[3400]\tvalid_0's l1: 5.538\n",
      "[3500]\tvalid_0's l1: 5.53796\n",
      "[3600]\tvalid_0's l1: 5.53798\n",
      "Early stopping, best iteration is:\n",
      "[3566]\tvalid_0's l1: 5.53795\n",
      "Fold 1 MAE: 5.537950322644552\n",
      "Fold 1 improvement: 0.03204617777469354\n",
      "Fold 2 Model Training\n",
      "Training until validation scores don't improve for 100 rounds\n",
      "[100]\tvalid_0's l1: 7.01505\n",
      "[200]\tvalid_0's l1: 6.97489\n",
      "[300]\tvalid_0's l1: 6.95691\n",
      "[400]\tvalid_0's l1: 6.94547\n",
      "[500]\tvalid_0's l1: 6.93814\n",
      "[600]\tvalid_0's l1: 6.9334\n",
      "[700]\tvalid_0's l1: 6.9298\n",
      "[800]\tvalid_0's l1: 6.92711\n",
      "[900]\tvalid_0's l1: 6.92517\n",
      "[1000]\tvalid_0's l1: 6.92383\n",
      "[1100]\tvalid_0's l1: 6.92276\n",
      "[1200]\tvalid_0's l1: 6.92213\n",
      "[1300]\tvalid_0's l1: 6.92159\n",
      "[1400]\tvalid_0's l1: 6.92092\n",
      "[1500]\tvalid_0's l1: 6.92056\n",
      "[1600]\tvalid_0's l1: 6.92008\n",
      "[1700]\tvalid_0's l1: 6.91968\n",
      "[1800]\tvalid_0's l1: 6.91927\n",
      "[1900]\tvalid_0's l1: 6.91893\n",
      "[2000]\tvalid_0's l1: 6.91871\n",
      "[2100]\tvalid_0's l1: 6.91855\n",
      "[2200]\tvalid_0's l1: 6.91836\n",
      "[2300]\tvalid_0's l1: 6.9181\n",
      "[2400]\tvalid_0's l1: 6.91793\n",
      "[2500]\tvalid_0's l1: 6.91779\n",
      "[2600]\tvalid_0's l1: 6.91774\n",
      "Early stopping, best iteration is:\n",
      "[2582]\tvalid_0's l1: 6.91773\n",
      "Fold 2 MAE: 6.9177348006918615\n",
      "Fold 2 improvement: 0.03166967814377386\n",
      "Fold 3 Model Training\n",
      "Training until validation scores don't improve for 100 rounds\n",
      "[100]\tvalid_0's l1: 6.35809\n",
      "[200]\tvalid_0's l1: 6.33308\n",
      "[300]\tvalid_0's l1: 6.32224\n",
      "[400]\tvalid_0's l1: 6.31477\n",
      "[500]\tvalid_0's l1: 6.31038\n",
      "[600]\tvalid_0's l1: 6.30717\n",
      "[700]\tvalid_0's l1: 6.30444\n",
      "[800]\tvalid_0's l1: 6.30226\n",
      "[900]\tvalid_0's l1: 6.30078\n",
      "[1000]\tvalid_0's l1: 6.29968\n",
      "[1100]\tvalid_0's l1: 6.29898\n",
      "[1200]\tvalid_0's l1: 6.2983\n",
      "[1300]\tvalid_0's l1: 6.29787\n",
      "[1400]\tvalid_0's l1: 6.29743\n",
      "[1500]\tvalid_0's l1: 6.29701\n",
      "[1600]\tvalid_0's l1: 6.29666\n",
      "[1700]\tvalid_0's l1: 6.29624\n",
      "[1800]\tvalid_0's l1: 6.29608\n",
      "[1900]\tvalid_0's l1: 6.29578\n",
      "[2000]\tvalid_0's l1: 6.2956\n",
      "[2100]\tvalid_0's l1: 6.29554\n",
      "[2200]\tvalid_0's l1: 6.29543\n",
      "[2300]\tvalid_0's l1: 6.29536\n",
      "[2400]\tvalid_0's l1: 6.2953\n",
      "[2500]\tvalid_0's l1: 6.29526\n",
      "[2600]\tvalid_0's l1: 6.29522\n",
      "Early stopping, best iteration is:\n",
      "[2554]\tvalid_0's l1: 6.29516\n",
      "Fold 3 MAE: 6.295163092539481\n",
      "Fold 3 improvement: 0.02336171573242196\n",
      "Fold 4 Model Training\n",
      "Training until validation scores don't improve for 100 rounds\n",
      "[100]\tvalid_0's l1: 6.3489\n",
      "[200]\tvalid_0's l1: 6.32496\n",
      "[300]\tvalid_0's l1: 6.31499\n",
      "[400]\tvalid_0's l1: 6.30809\n",
      "[500]\tvalid_0's l1: 6.30381\n",
      "[600]\tvalid_0's l1: 6.30071\n",
      "[700]\tvalid_0's l1: 6.29792\n",
      "[800]\tvalid_0's l1: 6.29598\n",
      "[900]\tvalid_0's l1: 6.2946\n",
      "[1000]\tvalid_0's l1: 6.29394\n",
      "[1100]\tvalid_0's l1: 6.29335\n",
      "[1200]\tvalid_0's l1: 6.29277\n",
      "[1300]\tvalid_0's l1: 6.2922\n",
      "[1400]\tvalid_0's l1: 6.29187\n",
      "[1500]\tvalid_0's l1: 6.29158\n",
      "[1600]\tvalid_0's l1: 6.29128\n",
      "[1700]\tvalid_0's l1: 6.29117\n",
      "[1800]\tvalid_0's l1: 6.29095\n",
      "[1900]\tvalid_0's l1: 6.29074\n",
      "[2000]\tvalid_0's l1: 6.29055\n",
      "[2100]\tvalid_0's l1: 6.29044\n",
      "[2200]\tvalid_0's l1: 6.29033\n",
      "[2300]\tvalid_0's l1: 6.29014\n",
      "[2400]\tvalid_0's l1: 6.29006\n",
      "[2500]\tvalid_0's l1: 6.29\n",
      "[2600]\tvalid_0's l1: 6.28991\n",
      "[2700]\tvalid_0's l1: 6.28982\n",
      "[2800]\tvalid_0's l1: 6.28967\n",
      "Early stopping, best iteration is:\n",
      "[2787]\tvalid_0's l1: 6.28965\n",
      "Fold 4 MAE: 6.28964666367759\n",
      "Fold 4 improvement: 0.022379689635827815\n",
      "Fold 5 Model Training\n",
      "Training until validation scores don't improve for 100 rounds\n",
      "[100]\tvalid_0's l1: 6.05279\n",
      "[200]\tvalid_0's l1: 6.02863\n",
      "[300]\tvalid_0's l1: 6.01824\n",
      "[400]\tvalid_0's l1: 6.0109\n",
      "[500]\tvalid_0's l1: 6.00679\n",
      "[600]\tvalid_0's l1: 6.00385\n",
      "[700]\tvalid_0's l1: 6.00141\n",
      "[800]\tvalid_0's l1: 5.99979\n",
      "[900]\tvalid_0's l1: 5.99853\n",
      "[1000]\tvalid_0's l1: 5.99738\n",
      "[1100]\tvalid_0's l1: 5.99677\n",
      "[1200]\tvalid_0's l1: 5.99631\n",
      "[1300]\tvalid_0's l1: 5.99586\n",
      "[1400]\tvalid_0's l1: 5.99543\n",
      "[1500]\tvalid_0's l1: 5.99527\n",
      "[1600]\tvalid_0's l1: 5.99513\n",
      "[1700]\tvalid_0's l1: 5.99503\n",
      "[1800]\tvalid_0's l1: 5.99478\n",
      "[1900]\tvalid_0's l1: 5.99469\n",
      "[2000]\tvalid_0's l1: 5.99468\n",
      "Early stopping, best iteration is:\n",
      "[1948]\tvalid_0's l1: 5.99464\n",
      "Fold 5 MAE: 5.994637374861047\n",
      "Fold 5 improvement: 0.0236259101627716\n",
      "Training final model with average best iteration: 2687\n",
      "[100]\tvalid_0's l1: 5.88161\n",
      "[200]\tvalid_0's l1: 5.8596\n",
      "[300]\tvalid_0's l1: 5.84995\n",
      "[400]\tvalid_0's l1: 5.84325\n",
      "[500]\tvalid_0's l1: 5.83885\n",
      "[600]\tvalid_0's l1: 5.83599\n",
      "[700]\tvalid_0's l1: 5.8335\n",
      "[800]\tvalid_0's l1: 5.83146\n",
      "[900]\tvalid_0's l1: 5.82987\n",
      "[1000]\tvalid_0's l1: 5.82886\n",
      "[1100]\tvalid_0's l1: 5.82818\n",
      "[1200]\tvalid_0's l1: 5.82761\n",
      "[1300]\tvalid_0's l1: 5.82691\n",
      "[1400]\tvalid_0's l1: 5.82647\n",
      "[1500]\tvalid_0's l1: 5.82615\n",
      "[1600]\tvalid_0's l1: 5.82568\n",
      "[1700]\tvalid_0's l1: 5.82545\n",
      "[1800]\tvalid_0's l1: 5.82523\n",
      "[1900]\tvalid_0's l1: 5.82502\n",
      "[2000]\tvalid_0's l1: 5.82483\n",
      "[2100]\tvalid_0's l1: 5.82473\n",
      "[2200]\tvalid_0's l1: 5.82462\n",
      "[2300]\tvalid_0's l1: 5.82449\n",
      "[2400]\tvalid_0's l1: 5.82438\n",
      "[2500]\tvalid_0's l1: 5.82434\n",
      "[2600]\tvalid_0's l1: 5.8242\n",
      "Average MAE across all folds: 6.144596086371365\n"
     ]
    }
   ],
   "source": [
    "num_folds = 5\n",
    "fold_size = 480 // num_folds\n",
    "gap = 5\n",
    "\n",
    "models = []\n",
    "models_cbt = []\n",
    "scores = []\n",
    "improvements = []\n",
    "date_ids = df_train['date_id'].values\n",
    "\n",
    "for i in range(num_folds):\n",
    "    start = i * fold_size\n",
    "    end = start + fold_size\n",
    "    \n",
    "    # Define the purged set ranges\n",
    "    purged_before_start = start - 2\n",
    "    purged_before_end = start + 2\n",
    "    purged_after_start = end - 2\n",
    "    purged_after_end = end + 2\n",
    "    \n",
    "    # Exclude the purged ranges from the test set\n",
    "    purged_set = ((date_ids >= purged_before_start) & (date_ids <= purged_before_end)) | ((date_ids >= purged_after_start) & (date_ids <= purged_after_end))\n",
    "    \n",
    "    # Define test_indices excluding the purged set\n",
    "    test_indices = (date_ids >= start) & (date_ids < end) & ~purged_set\n",
    "    train_indices = ~test_indices & ~purged_set\n",
    "    \n",
    "    df_fold_train = df_train_feats[train_indices]\n",
    "    df_fold_train_target = df_train['target'][train_indices]\n",
    "    df_fold_valid = df_train_feats[test_indices]\n",
    "    df_fold_valid_target = df_train['target'][test_indices]\n",
    "\n",
    "    print(f\"Fold {i+1} Model Training\")\n",
    "    \n",
    "    # Train a LightGBM model for the current fold\n",
    "    lgb_model = lgb.LGBMRegressor(**lgb_params)\n",
    "    lgb_model.fit(\n",
    "        df_fold_train[feature_name],\n",
    "        df_fold_train_target,\n",
    "        eval_set=[(df_fold_valid[feature_name], df_fold_valid_target)],\n",
    "        callbacks=[\n",
    "            lgb.callback.early_stopping(stopping_rounds=100),\n",
    "            lgb.callback.log_evaluation(period=100),\n",
    "        ],\n",
    "    )\n",
    "\n",
    "    # Append the model to the list\n",
    "    models.append(lgb_model)\n",
    "#     # Save the model to a file\n",
    "#     model_filename = os.path.join(model_save_path, f'doblez_{i+1}.txt')\n",
    "#     lgb_model.booster_.save_model(model_filename)\n",
    "#     print(f\"Model for fold {i+1} saved to {model_filename}\")\n",
    "\n",
    "    # Evaluate model performance on the validation set\n",
    "    fold_predictions = lgb_model.predict(df_fold_valid[feature_name])\n",
    "    fold_score = mean_absolute_error(fold_predictions, df_fold_valid_target)\n",
    "    scores.append(fold_score)\n",
    "    improve = 1 - fold_score / np.mean(abs(df_fold_valid_target))\n",
    "    improvements.append(improve)\n",
    "    print(f\"Fold {i+1} MAE: {fold_score}\")\n",
    "    print(f\"Fold {i+1} improvement: {improve}\")\n",
    "\n",
    "    # Free up memory by deleting fold specific variables\n",
    "    del df_fold_train, df_fold_train_target, df_fold_valid, df_fold_valid_target\n",
    "    gc.collect()\n",
    "\n",
    "# Calculate the average best iteration from all regular folds\n",
    "average_best_iteration = int(np.mean([model.best_iteration_ for model in models]))\n",
    "\n",
    "# Update the lgb_params with the average best iteration\n",
    "final_model_params = lgb_params.copy()\n",
    "final_model_params[\"n_estimators\"] = average_best_iteration\n",
    "\n",
    "print(f\"Training final model with average best iteration: {average_best_iteration}\")\n",
    "\n",
    "# Train the final model on the entire dataset\n",
    "final_model = lgb.LGBMRegressor(**final_model_params)\n",
    "final_model.fit(\n",
    "    df_train_feats[feature_name],\n",
    "    df_train[\"target\"],\n",
    "    eval_set=[(df_valid_feats[feature_name], df_valid[\"target\"])],\n",
    "    callbacks=[\n",
    "        lgb.callback.log_evaluation(period=100),\n",
    "    ],\n",
    ")\n",
    "\n",
    "# Append the final model to the list of models\n",
    "models.append(final_model)\n",
    "\n",
    "fold_predictions = lgb_model.predict(df_valid_feats[feature_name])\n",
    "fold_score = mean_absolute_error(fold_predictions, df_valid[\"target\"])\n",
    "scores.append(fold_score)\n",
    "improve = 1 - fold_score / np.mean(abs(df_valid[\"target\"]))\n",
    "improvements.append(improve)\n",
    "# Save the final model to a file\n",
    "# final_model_filename = os.path.join(model_save_path, 'doblez-conjunto.txt')\n",
    "# final_model.booster_.save_model(final_model_filename)\n",
    "# print(f\"Final model saved to {final_model_filename}\")\n",
    "\n",
    "# Now 'models' holds the trained models for each fold and 'scores' holds the validation scores\n",
    "print(f\"Average MAE across all folds: {np.mean(scores)}\")"
   ]
  },
  {
   "cell_type": "code",
   "execution_count": 22,
   "id": "41395751",
   "metadata": {
    "execution": {
     "iopub.execute_input": "2023-12-20T06:03:08.543785Z",
     "iopub.status.busy": "2023-12-20T06:03:08.543166Z",
     "iopub.status.idle": "2023-12-20T06:03:10.058198Z",
     "shell.execute_reply": "2023-12-20T06:03:10.057299Z"
    },
    "papermill": {
     "duration": 1.539031,
     "end_time": "2023-12-20T06:03:10.060195",
     "exception": false,
     "start_time": "2023-12-20T06:03:08.521164",
     "status": "completed"
    },
    "tags": []
   },
   "outputs": [
    {
     "data": {
      "text/html": [
       "        <script type=\"text/javascript\">\n",
       "        window.PlotlyConfig = {MathJaxConfig: 'local'};\n",
       "        if (window.MathJax && window.MathJax.Hub && window.MathJax.Hub.Config) {window.MathJax.Hub.Config({SVG: {font: \"STIX-Web\"}});}\n",
       "        if (typeof require !== 'undefined') {\n",
       "        require.undef(\"plotly\");\n",
       "        requirejs.config({\n",
       "            paths: {\n",
       "                'plotly': ['https://cdn.plot.ly/plotly-2.25.2.min']\n",
       "            }\n",
       "        });\n",
       "        require(['plotly'], function(Plotly) {\n",
       "            window._Plotly = Plotly;\n",
       "        });\n",
       "        }\n",
       "        </script>\n",
       "        "
      ]
     },
     "metadata": {},
     "output_type": "display_data"
    },
    {
     "data": {
      "text/html": [
       "<div>                            <div id=\"c611584e-5fc9-405d-8510-f6236648dc78\" class=\"plotly-graph-div\" style=\"height:525px; width:100%;\"></div>            <script type=\"text/javascript\">                require([\"plotly\"], function(Plotly) {                    window.PLOTLYENV=window.PLOTLYENV || {};                                    if (document.getElementById(\"c611584e-5fc9-405d-8510-f6236648dc78\")) {                    Plotly.newPlot(                        \"c611584e-5fc9-405d-8510-f6236648dc78\",                        [{\"alignmentgroup\":\"True\",\"hovertemplate\":\"x=%{x}\\u003cbr\\u003ey=%{y}\\u003cextra\\u003e\\u003c\\u002fextra\\u003e\",\"legendgroup\":\"\",\"marker\":{\"color\":\"#636efa\",\"pattern\":{\"shape\":\"\"}},\"name\":\"\",\"offsetgroup\":\"\",\"orientation\":\"h\",\"showlegend\":false,\"textposition\":\"auto\",\"x\":[10135.577520370483,10235.916108131409,11319.805399894714,12710.714537143707,14401.855394363403,14410.732198238373,19824.383139133453,20311.68657875061,22157.577480316162,22931.29204273224,23485.748849868774,25098.90225982666,25282.250185489655,25710.673899650574,26291.07266139984,27802.875002384186,28717.07886648178,29363.07519340515,30130.663149356842,31319.008556365967,32428.640825271606,32933.861000061035,33765.22898864746,36370.15188789368,36449.87170743942,37192.1446390152,37486.51549243927,37879.3506860733,38755.31183671951,39234.055086135864,39260.14508008957,40070.03424835205,40566.15154695511,41140.536117076874,41631.54724121094,42394.611565589905,42494.196967601776,42549.74675369263,42620.25058937073,43095.63057279587,43506.45056152344,43562.687271595,43981.708317279816,43982.73473072052,44155.196736335754,45601.388670921326,45687.01946926117,46120.53678274155,46557.040687561035,47316.273878097534,48438.995027542114,49243.08483839035,49527.87900686264,52380.875616550446,52861.860973358154,52897.496862888336,53768.34626054764,55215.01301956177,55602.81025505066,55667.17244052887,56375.94612073898,57105.936940193176,57696.624638557434,57721.02048397064,58451.01720571518,59208.13132381439,60138.53885889053,60901.796075344086,61283.38274335861,61286.06125831604,61984.474513053894,62388.809019088745,62733.62264108658,63257.479200839996,63533.82407808304,63721.605966091156,64242.727581977844,64571.63666629791,64592.29836273193,65654.16794538498,65898.57752418518,65953.90143632889,66199.30708837509,67595.84394931793,67812.05398225784,69657.35445070267,70366.0079460144,72715.4076166153,74911.96279668808,75602.58579111099,76112.06129693985,77223.47714138031,77635.6084022522,77841.06431055069,78435.67593240738,81061.27083015442,81800.06295490265,83151.01752662659,83614.6310095787,83866.2693977356,84451.1280260086,85978.6214184761,86733.42941570282,90259.08371639252,90947.25875663757,91704.56935071945,92596.36078739166,92601.69157838821,92951.47323942184,93606.7032494545,93622.57436943054,95096.67335700989,95766.79592514038,96457.15455341339,97789.71307945251,98464.67273759842,99448.82026863098,100157.91796064377,100424.08530330658,105789.97308158875,106833.80574035645,106901.28253936768,109290.34900665283,109741.46744918823,111598.2584900856,112558.26190805435,113676.41721200943,114971.55286073685,115425.47546434402,116663.14931058884,117716.88971710205,120914.22752571106,121899.861266613,126117.30478477478,137824.04496526718,138931.94082212448,139379.4106183052,142935.37195825577,144406.16507053375,149152.01334524155,154914.47054576874,155069.78351831436,159682.02203178406,160181.59946489334,161233.01422309875,164303.73175001144,166110.77206611633,167865.3292336464,170164.50553703308,176322.99320316315,177997.68800497055,183285.51379156113,185434.0249300003,191112.42951202393,192704.8682012558,199490.71852827072,201958.76067447662,203757.66858673096,221286.30038881302,223537.38558006287,236432.31460809708,238052.62029123306,244957.6783633232,245557.88006162643,266816.978597641,303279.14390039444,306211.7338614464,314197.2243628502,315291.1586818695,315395.43052339554,317312.1658563614,379110.1930832863,421990.9340596199,521546.2904691696,639933.6452116966,3522261.997551918],\"xaxis\":\"x\",\"y\":[\"mid_price_movement\",\"imbalance_buy_sell_flag_ret_10\",\"imbalance_buy_sell_flag_liq_5\",\"wap_sq\",\"imbalance_buy_sell_flag_liq_1\",\"imbalance_buy_sell_flag_ret_1\",\"stock_weights\",\"imbalance_buy_sell_flag_liq_10\",\"matched_size_liq_3\",\"size_imbalance\",\"matched_size_liq_2\",\"reference_price_liq_3\",\"reference_price_liq_2\",\"liquidity_imbalance\",\"reference_price_liq_5\",\"matched_size_liq_5\",\"reference_price_liq_1\",\"bid_size_ask_size_imbalance_size_imb2\",\"depth_pressure\",\"imbalance_buy_sell_flag_shift_5\",\"relative_spread'\",\"seconds\",\"imbalance_buy_sell_flag_shift_3\",\"bid_size_diff_2\",\"ask_size_diff_1\",\"imbalance_size_liq_2\",\"ask_size_diff_2\",\"ask_size_diff_5\",\"bid_size_diff_3\",\"ask_size_diff_3\",\"far_price_wap_imb\",\"reference_price_liq_10\",\"reference_price_far_price_imb\",\"matched_size_liq_1\",\"bid_size_diff_1\",\"reference_price_ret_3\",\"bid_size_diff_5\",\"cum_cnt\",\"matched_size_bid_size_ask_size_imb2\",\"imbalance_size_liq_3\",\"imbalance_size_liq_5\",\"imbalance_size_liq_1\",\"reference_price_ret_2\",\"far_price_diff_3\",\"ask_price_bid_price_wap_imb2\",\"matched_size_liq_10\",\"bid_price_ask_price_imb\",\"bid_size_diff_10\",\"far_price_bid_price_imb\",\"far_price_diff_2\",\"far_price_ask_price_imb\",\"ask_size_diff_10\",\"ask_price_diff_2\",\"far_price_diff_1\",\"reference_price_ret_5\",\"volume\",\"far_price_diff_5\",\"all_sizes_mean\",\"matched_size_ret_2\",\"near_price_diff_3\",\"all_sizes_skew\",\"height_imb\",\"mid_price\",\"bid_price_diff_10\",\"reference_price_shift_2\",\"near_price_diff_5\",\"near_price_diff_2\",\"wap_diff_10\",\"ask_price_diff_3\",\"bid_price_diff_2\",\"ask_price_diff_10\",\"imbalance_buy_sell_flag_shift_2\",\"price_pressure\",\"reference_price_shift_1\",\"bid_price_diff_5\",\"reference_price_ret_1\",\"bid_price_diff_3\",\"ask_size\",\"ask_price_diff_5\",\"imbalance_size_ret_1\",\"price_spread\",\"matched_size_ret_3\",\"reference_price_shift_3\",\"reference_price\",\"imbalance_size_ret_2\",\"bid_size\",\"wap\",\"matched_size_shift_2\",\"bid_price_diff_1\",\"imbalance_buy_sell_flag\",\"all_sizes_kurt\",\"matched_size_shift_3\",\"far_price_near_price_imb\",\"imbalance_size_ret_3\",\"imbalance_size_shift_2\",\"ask_price_diff_1\",\"spread_intensity\",\"all_prices_skew\",\"imbalance_size_shift_3\",\"imbalance_size_liq_10\",\"near_price_diff_1\",\"matched_size_ret_5\",\"reference_price_ret_10\",\"bid_price_wap_reference_price_imb2\",\"ask_price\",\"new_liquidity_imbalance\",\"imbalance_size_shift_1\",\"matched_size_shift_1\",\"bid_price\",\"reference_price_shift_5\",\"price_spread_ratio\",\"all_prices_std\",\"all_sizes_std\",\"wap_diff_2\",\"all_prices_mean\",\"imbalance_size_shift_5\",\"imbalance_size_ret_5\",\"bid_price_wap_imb\",\"spread_depth_ratio\",\"imbalance_buy_sell_flag_shift_10\",\"ask_price_wap_imb\",\"reference_price_near_price_imb\",\"all_prices_kurt\",\"matched_size_shift_5\",\"near_price\",\"far_price\",\"wap_diff_3\",\"matched_size_ret_1\",\"wap_std\",\"wap_diff_5\",\"matched_size_bid_size_imbalance_size_imb2\",\"matched_size\",\"matched_size_ask_size_imbalance_size_imb2\",\"wap_diff_1\",\"bid_price_std\",\"ask_price_std\",\"imbalance_size\",\"volume_std\",\"ask_price_bid_price_reference_price_imb2\",\"near_price_wap_imb\",\"near_price_diff_10\",\"imbalance_momentum\",\"stock_id\",\"far_price_diff_10\",\"imbalance_buy_sell_flag_shift_1\",\"near_price_bid_price_imb\",\"imbalance_size_shift_10\",\"reference_price_shift_10\",\"matched_size_shift_10\",\"global_ptp_size\",\"ask_price_wap_reference_price_imb2\",\"pre_wap_std\",\"global_ptp_price\",\"pre_bid_std\",\"near_price_ask_price_imb\",\"pre_ask_std\",\"matched_size_ret_10\",\"global_median_price\",\"price_spread_mean\",\"imbalance_size_ret_10\",\"seconds_in_bucket\",\"wap_sq_cum_sum\",\"global_median_size\",\"volume_mean\",\"weighted_wap\",\"reference_price_ask_price_imb\",\"wap_cum_sum\",\"global_std_price\",\"pre_target_std\",\"pre_wap\",\"reference_price_bid_price_imb\",\"matched_imbalance\",\"reference_price_wap_imb\",\"global_std_size\",\"new_market_urgency\",\"market_urgency\"],\"yaxis\":\"y\",\"type\":\"bar\"}],                        {\"template\":{\"data\":{\"histogram2dcontour\":[{\"type\":\"histogram2dcontour\",\"colorbar\":{\"outlinewidth\":0,\"ticks\":\"\"},\"colorscale\":[[0.0,\"#0d0887\"],[0.1111111111111111,\"#46039f\"],[0.2222222222222222,\"#7201a8\"],[0.3333333333333333,\"#9c179e\"],[0.4444444444444444,\"#bd3786\"],[0.5555555555555556,\"#d8576b\"],[0.6666666666666666,\"#ed7953\"],[0.7777777777777778,\"#fb9f3a\"],[0.8888888888888888,\"#fdca26\"],[1.0,\"#f0f921\"]]}],\"choropleth\":[{\"type\":\"choropleth\",\"colorbar\":{\"outlinewidth\":0,\"ticks\":\"\"}}],\"histogram2d\":[{\"type\":\"histogram2d\",\"colorbar\":{\"outlinewidth\":0,\"ticks\":\"\"},\"colorscale\":[[0.0,\"#0d0887\"],[0.1111111111111111,\"#46039f\"],[0.2222222222222222,\"#7201a8\"],[0.3333333333333333,\"#9c179e\"],[0.4444444444444444,\"#bd3786\"],[0.5555555555555556,\"#d8576b\"],[0.6666666666666666,\"#ed7953\"],[0.7777777777777778,\"#fb9f3a\"],[0.8888888888888888,\"#fdca26\"],[1.0,\"#f0f921\"]]}],\"heatmap\":[{\"type\":\"heatmap\",\"colorbar\":{\"outlinewidth\":0,\"ticks\":\"\"},\"colorscale\":[[0.0,\"#0d0887\"],[0.1111111111111111,\"#46039f\"],[0.2222222222222222,\"#7201a8\"],[0.3333333333333333,\"#9c179e\"],[0.4444444444444444,\"#bd3786\"],[0.5555555555555556,\"#d8576b\"],[0.6666666666666666,\"#ed7953\"],[0.7777777777777778,\"#fb9f3a\"],[0.8888888888888888,\"#fdca26\"],[1.0,\"#f0f921\"]]}],\"heatmapgl\":[{\"type\":\"heatmapgl\",\"colorbar\":{\"outlinewidth\":0,\"ticks\":\"\"},\"colorscale\":[[0.0,\"#0d0887\"],[0.1111111111111111,\"#46039f\"],[0.2222222222222222,\"#7201a8\"],[0.3333333333333333,\"#9c179e\"],[0.4444444444444444,\"#bd3786\"],[0.5555555555555556,\"#d8576b\"],[0.6666666666666666,\"#ed7953\"],[0.7777777777777778,\"#fb9f3a\"],[0.8888888888888888,\"#fdca26\"],[1.0,\"#f0f921\"]]}],\"contourcarpet\":[{\"type\":\"contourcarpet\",\"colorbar\":{\"outlinewidth\":0,\"ticks\":\"\"}}],\"contour\":[{\"type\":\"contour\",\"colorbar\":{\"outlinewidth\":0,\"ticks\":\"\"},\"colorscale\":[[0.0,\"#0d0887\"],[0.1111111111111111,\"#46039f\"],[0.2222222222222222,\"#7201a8\"],[0.3333333333333333,\"#9c179e\"],[0.4444444444444444,\"#bd3786\"],[0.5555555555555556,\"#d8576b\"],[0.6666666666666666,\"#ed7953\"],[0.7777777777777778,\"#fb9f3a\"],[0.8888888888888888,\"#fdca26\"],[1.0,\"#f0f921\"]]}],\"surface\":[{\"type\":\"surface\",\"colorbar\":{\"outlinewidth\":0,\"ticks\":\"\"},\"colorscale\":[[0.0,\"#0d0887\"],[0.1111111111111111,\"#46039f\"],[0.2222222222222222,\"#7201a8\"],[0.3333333333333333,\"#9c179e\"],[0.4444444444444444,\"#bd3786\"],[0.5555555555555556,\"#d8576b\"],[0.6666666666666666,\"#ed7953\"],[0.7777777777777778,\"#fb9f3a\"],[0.8888888888888888,\"#fdca26\"],[1.0,\"#f0f921\"]]}],\"mesh3d\":[{\"type\":\"mesh3d\",\"colorbar\":{\"outlinewidth\":0,\"ticks\":\"\"}}],\"scatter\":[{\"fillpattern\":{\"fillmode\":\"overlay\",\"size\":10,\"solidity\":0.2},\"type\":\"scatter\"}],\"parcoords\":[{\"type\":\"parcoords\",\"line\":{\"colorbar\":{\"outlinewidth\":0,\"ticks\":\"\"}}}],\"scatterpolargl\":[{\"type\":\"scatterpolargl\",\"marker\":{\"colorbar\":{\"outlinewidth\":0,\"ticks\":\"\"}}}],\"bar\":[{\"error_x\":{\"color\":\"#2a3f5f\"},\"error_y\":{\"color\":\"#2a3f5f\"},\"marker\":{\"line\":{\"color\":\"#E5ECF6\",\"width\":0.5},\"pattern\":{\"fillmode\":\"overlay\",\"size\":10,\"solidity\":0.2}},\"type\":\"bar\"}],\"scattergeo\":[{\"type\":\"scattergeo\",\"marker\":{\"colorbar\":{\"outlinewidth\":0,\"ticks\":\"\"}}}],\"scatterpolar\":[{\"type\":\"scatterpolar\",\"marker\":{\"colorbar\":{\"outlinewidth\":0,\"ticks\":\"\"}}}],\"histogram\":[{\"marker\":{\"pattern\":{\"fillmode\":\"overlay\",\"size\":10,\"solidity\":0.2}},\"type\":\"histogram\"}],\"scattergl\":[{\"type\":\"scattergl\",\"marker\":{\"colorbar\":{\"outlinewidth\":0,\"ticks\":\"\"}}}],\"scatter3d\":[{\"type\":\"scatter3d\",\"line\":{\"colorbar\":{\"outlinewidth\":0,\"ticks\":\"\"}},\"marker\":{\"colorbar\":{\"outlinewidth\":0,\"ticks\":\"\"}}}],\"scattermapbox\":[{\"type\":\"scattermapbox\",\"marker\":{\"colorbar\":{\"outlinewidth\":0,\"ticks\":\"\"}}}],\"scatterternary\":[{\"type\":\"scatterternary\",\"marker\":{\"colorbar\":{\"outlinewidth\":0,\"ticks\":\"\"}}}],\"scattercarpet\":[{\"type\":\"scattercarpet\",\"marker\":{\"colorbar\":{\"outlinewidth\":0,\"ticks\":\"\"}}}],\"carpet\":[{\"aaxis\":{\"endlinecolor\":\"#2a3f5f\",\"gridcolor\":\"white\",\"linecolor\":\"white\",\"minorgridcolor\":\"white\",\"startlinecolor\":\"#2a3f5f\"},\"baxis\":{\"endlinecolor\":\"#2a3f5f\",\"gridcolor\":\"white\",\"linecolor\":\"white\",\"minorgridcolor\":\"white\",\"startlinecolor\":\"#2a3f5f\"},\"type\":\"carpet\"}],\"table\":[{\"cells\":{\"fill\":{\"color\":\"#EBF0F8\"},\"line\":{\"color\":\"white\"}},\"header\":{\"fill\":{\"color\":\"#C8D4E3\"},\"line\":{\"color\":\"white\"}},\"type\":\"table\"}],\"barpolar\":[{\"marker\":{\"line\":{\"color\":\"#E5ECF6\",\"width\":0.5},\"pattern\":{\"fillmode\":\"overlay\",\"size\":10,\"solidity\":0.2}},\"type\":\"barpolar\"}],\"pie\":[{\"automargin\":true,\"type\":\"pie\"}]},\"layout\":{\"autotypenumbers\":\"strict\",\"colorway\":[\"#636efa\",\"#EF553B\",\"#00cc96\",\"#ab63fa\",\"#FFA15A\",\"#19d3f3\",\"#FF6692\",\"#B6E880\",\"#FF97FF\",\"#FECB52\"],\"font\":{\"color\":\"#2a3f5f\"},\"hovermode\":\"closest\",\"hoverlabel\":{\"align\":\"left\"},\"paper_bgcolor\":\"white\",\"plot_bgcolor\":\"#E5ECF6\",\"polar\":{\"bgcolor\":\"#E5ECF6\",\"angularaxis\":{\"gridcolor\":\"white\",\"linecolor\":\"white\",\"ticks\":\"\"},\"radialaxis\":{\"gridcolor\":\"white\",\"linecolor\":\"white\",\"ticks\":\"\"}},\"ternary\":{\"bgcolor\":\"#E5ECF6\",\"aaxis\":{\"gridcolor\":\"white\",\"linecolor\":\"white\",\"ticks\":\"\"},\"baxis\":{\"gridcolor\":\"white\",\"linecolor\":\"white\",\"ticks\":\"\"},\"caxis\":{\"gridcolor\":\"white\",\"linecolor\":\"white\",\"ticks\":\"\"}},\"coloraxis\":{\"colorbar\":{\"outlinewidth\":0,\"ticks\":\"\"}},\"colorscale\":{\"sequential\":[[0.0,\"#0d0887\"],[0.1111111111111111,\"#46039f\"],[0.2222222222222222,\"#7201a8\"],[0.3333333333333333,\"#9c179e\"],[0.4444444444444444,\"#bd3786\"],[0.5555555555555556,\"#d8576b\"],[0.6666666666666666,\"#ed7953\"],[0.7777777777777778,\"#fb9f3a\"],[0.8888888888888888,\"#fdca26\"],[1.0,\"#f0f921\"]],\"sequentialminus\":[[0.0,\"#0d0887\"],[0.1111111111111111,\"#46039f\"],[0.2222222222222222,\"#7201a8\"],[0.3333333333333333,\"#9c179e\"],[0.4444444444444444,\"#bd3786\"],[0.5555555555555556,\"#d8576b\"],[0.6666666666666666,\"#ed7953\"],[0.7777777777777778,\"#fb9f3a\"],[0.8888888888888888,\"#fdca26\"],[1.0,\"#f0f921\"]],\"diverging\":[[0,\"#8e0152\"],[0.1,\"#c51b7d\"],[0.2,\"#de77ae\"],[0.3,\"#f1b6da\"],[0.4,\"#fde0ef\"],[0.5,\"#f7f7f7\"],[0.6,\"#e6f5d0\"],[0.7,\"#b8e186\"],[0.8,\"#7fbc41\"],[0.9,\"#4d9221\"],[1,\"#276419\"]]},\"xaxis\":{\"gridcolor\":\"white\",\"linecolor\":\"white\",\"ticks\":\"\",\"title\":{\"standoff\":15},\"zerolinecolor\":\"white\",\"automargin\":true,\"zerolinewidth\":2},\"yaxis\":{\"gridcolor\":\"white\",\"linecolor\":\"white\",\"ticks\":\"\",\"title\":{\"standoff\":15},\"zerolinecolor\":\"white\",\"automargin\":true,\"zerolinewidth\":2},\"scene\":{\"xaxis\":{\"backgroundcolor\":\"#E5ECF6\",\"gridcolor\":\"white\",\"linecolor\":\"white\",\"showbackground\":true,\"ticks\":\"\",\"zerolinecolor\":\"white\",\"gridwidth\":2},\"yaxis\":{\"backgroundcolor\":\"#E5ECF6\",\"gridcolor\":\"white\",\"linecolor\":\"white\",\"showbackground\":true,\"ticks\":\"\",\"zerolinecolor\":\"white\",\"gridwidth\":2},\"zaxis\":{\"backgroundcolor\":\"#E5ECF6\",\"gridcolor\":\"white\",\"linecolor\":\"white\",\"showbackground\":true,\"ticks\":\"\",\"zerolinecolor\":\"white\",\"gridwidth\":2}},\"shapedefaults\":{\"line\":{\"color\":\"#2a3f5f\"}},\"annotationdefaults\":{\"arrowcolor\":\"#2a3f5f\",\"arrowhead\":0,\"arrowwidth\":1},\"geo\":{\"bgcolor\":\"white\",\"landcolor\":\"#E5ECF6\",\"subunitcolor\":\"white\",\"showland\":true,\"showlakes\":true,\"lakecolor\":\"white\"},\"title\":{\"x\":0.05},\"mapbox\":{\"style\":\"light\"}}},\"xaxis\":{\"anchor\":\"y\",\"domain\":[0.0,1.0],\"title\":{\"text\":\"x\"}},\"yaxis\":{\"anchor\":\"x\",\"domain\":[0.0,1.0],\"title\":{\"text\":\"y\"}},\"legend\":{\"tracegroupgap\":0},\"margin\":{\"t\":60},\"barmode\":\"relative\"},                        {\"responsive\": true}                    ).then(function(){\n",
       "                            \n",
       "var gd = document.getElementById('c611584e-5fc9-405d-8510-f6236648dc78');\n",
       "var x = new MutationObserver(function (mutations, observer) {{\n",
       "        var display = window.getComputedStyle(gd).display;\n",
       "        if (!display || display === 'none') {{\n",
       "            console.log([gd, 'removed!']);\n",
       "            Plotly.purge(gd);\n",
       "            observer.disconnect();\n",
       "        }}\n",
       "}});\n",
       "\n",
       "// Listen for the removal of the full notebook cells\n",
       "var notebookContainer = gd.closest('#notebook-container');\n",
       "if (notebookContainer) {{\n",
       "    x.observe(notebookContainer, {childList: true});\n",
       "}}\n",
       "\n",
       "// Listen for the clearing of the current output cell\n",
       "var outputEl = gd.closest('.output');\n",
       "if (outputEl) {{\n",
       "    x.observe(outputEl, {childList: true});\n",
       "}}\n",
       "\n",
       "                        })                };                });            </script>        </div>"
      ]
     },
     "metadata": {},
     "output_type": "display_data"
    }
   ],
   "source": [
    "feat_imp = pd.Series(final_model.feature_importances_, index=feature_name).sort_values()\n",
    "import_feat = feat_imp[feat_imp>10000].index\n",
    "fig = px.bar(x=feat_imp[import_feat], y=import_feat, orientation='h')\n",
    "fig.show()"
   ]
  },
  {
   "cell_type": "code",
   "execution_count": 23,
   "id": "51c39b5e",
   "metadata": {
    "execution": {
     "iopub.execute_input": "2023-12-20T06:03:10.104687Z",
     "iopub.status.busy": "2023-12-20T06:03:10.104384Z",
     "iopub.status.idle": "2023-12-20T06:03:10.135492Z",
     "shell.execute_reply": "2023-12-20T06:03:10.134848Z"
    },
    "papermill": {
     "duration": 0.054927,
     "end_time": "2023-12-20T06:03:10.137281",
     "exception": false,
     "start_time": "2023-12-20T06:03:10.082354",
     "status": "completed"
    },
    "tags": []
   },
   "outputs": [],
   "source": [
    "import optiver2023\n",
    "env = optiver2023.make_env()\n",
    "iter_test = env.iter_test()"
   ]
  },
  {
   "cell_type": "code",
   "execution_count": 24,
   "id": "28ad0ff6",
   "metadata": {
    "execution": {
     "iopub.execute_input": "2023-12-20T06:03:10.196789Z",
     "iopub.status.busy": "2023-12-20T06:03:10.195678Z",
     "iopub.status.idle": "2023-12-20T06:06:07.547364Z",
     "shell.execute_reply": "2023-12-20T06:06:07.546374Z"
    },
    "papermill": {
     "duration": 177.384831,
     "end_time": "2023-12-20T06:06:07.549850",
     "exception": false,
     "start_time": "2023-12-20T06:03:10.165019",
     "status": "completed"
    },
    "tags": []
   },
   "outputs": [
    {
     "name": "stdout",
     "output_type": "stream",
     "text": [
      "Weights of models are:\n",
      "[0.20762835 0.20518899 0.1513614  0.14499882 0.15307313 0.1377493 ]\n",
      "This version of the API is not optimized and should not be used to estimate the runtime of your code on the hidden test set.\n"
     ]
    }
   ],
   "source": [
    "y_min, y_max = -64, 64\n",
    "cache = pd.DataFrame()\n",
    "pre_information = pd.DataFrame({\"stock_id\": range(200), \"pre_target_std\": np.nan, \"pre_ask_std\": np.nan,\n",
    "                                \"pre_bid_std\": np.nan, \"pre_wap\": np.nan, \"pre_wap_std\": np.nan})\n",
    "model_weights = improvements / sum(improvements)\n",
    "print(f\"Weights of models are:\")\n",
    "print(model_weights)\n",
    "\n",
    "for (test, revealed_targets, sample_prediction) in iter_test:\n",
    "    for term in sizes:\n",
    "        test[term] = np.log(test[term])\n",
    "    if test[\"seconds_in_bucket\"].unique()[0] == 0:\n",
    "        pre_information[\"pre_target_std\"] = revealed_targets.groupby(\"stock_id\")[\"revealed_target\"].std()\n",
    "        if not cache.empty:\n",
    "            pre_information[\"pre_ask_std\"] = cache.groupby(\"stock_id\")[\"ask_price\"].std()\n",
    "            pre_information[\"pre_bid_std\"] = cache.groupby(\"stock_id\")[\"bid_price\"].std()\n",
    "            pre_information[\"pre_wap\"] = cache.groupby(\"stock_id\")[\"wap\"].mean()\n",
    "            pre_information[\"pre_wap_std\"] = cache.groupby(\"stock_id\")[\"wap\"].std()\n",
    "        \n",
    "        cache = pd.DataFrame()\n",
    "    cache = pd.concat([cache, test], ignore_index=True, axis=0)\n",
    "    temp = pd.merge(cache, pre_information, on='stock_id', how='left')\n",
    "    feat = generate_all_features(temp)[-len(test):]\n",
    "    feat = reduce_mem_usage(feat)\n",
    "    \n",
    "    lgb_prediction = np.zeros(len(test))\n",
    "    for model, weight in zip(models, model_weights):\n",
    "        lgb_prediction += weight * model.predict(feat)\n",
    "        \n",
    "    lgb_prediction = lgb_prediction - np.mean(lgb_prediction)\n",
    "    clipped_predictions = np.clip(lgb_prediction, y_min, y_max)\n",
    "    sample_prediction['target'] = clipped_predictions\n",
    "    env.predict(sample_prediction)"
   ]
  }
 ],
 "metadata": {
  "kaggle": {
   "accelerator": "gpu",
   "dataSources": [
    {
     "databundleVersionId": 7056235,
     "sourceId": 57891,
     "sourceType": "competition"
    }
   ],
   "dockerImageVersionId": 30627,
   "isGpuEnabled": true,
   "isInternetEnabled": false,
   "language": "python",
   "sourceType": "notebook"
  },
  "kernelspec": {
   "display_name": "Python 3",
   "language": "python",
   "name": "python3"
  },
  "language_info": {
   "codemirror_mode": {
    "name": "ipython",
    "version": 3
   },
   "file_extension": ".py",
   "mimetype": "text/x-python",
   "name": "python",
   "nbconvert_exporter": "python",
   "pygments_lexer": "ipython3",
   "version": "3.10.12"
  },
  "papermill": {
   "default_parameters": {},
   "duration": 7506.760034,
   "end_time": "2023-12-20T06:06:09.510871",
   "environment_variables": {},
   "exception": null,
   "input_path": "__notebook__.ipynb",
   "output_path": "__notebook__.ipynb",
   "parameters": {},
   "start_time": "2023-12-20T04:01:02.750837",
   "version": "2.4.0"
  }
 },
 "nbformat": 4,
 "nbformat_minor": 5
}
